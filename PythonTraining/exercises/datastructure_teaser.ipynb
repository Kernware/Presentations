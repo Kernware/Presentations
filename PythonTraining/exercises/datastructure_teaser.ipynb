{
 "cells": [
  {
   "cell_type": "code",
   "execution_count": null,
   "metadata": {},
   "outputs": [],
   "source": [
    "import os\n",
    "import pymysql\n",
    "\n",
    "from dotenv import load_dotenv\n",
    "\n",
    "load_dotenv()\n",
    "\n",
    "def get_conn():\n",
    "    connection_params = {\n",
    "        \"host\": os.environ[\"MYSQL_HOST\"],\n",
    "        \"port\": int(os.environ[\"MYSQL_PORT\"]),\n",
    "        \"user\": os.environ[\"MYSQL_USER\"],\n",
    "        \"password\": os.environ[\"MYSQL_PASSWORD\"],\n",
    "        \"db\": os.environ[\"MYSQL_DB\"],\n",
    "    }\n",
    "    connection_params[\"cursorclass\"] = pymysql.cursors.DictCursor\n",
    "\n",
    "    return pymysql.connect(**connection_params)\n",
    "\n",
    "with get_conn() as con, con.cursor() as cursor:\n",
    "    cursor.execute(\n",
    "        \"\"\"\n",
    "        SELECT\n",
    "            ID\n",
    "        FROM wPiM.pim_products\n",
    "        WHERE wPiM.pim_products.product_status_sync2bw = 1;\n",
    "        \"\"\"\n",
    "    )\n",
    "    products_raw = cursor.fetchall()\n",
    "products = [p['ID'] for p in products_raw]\n",
    "\n",
    "with get_conn() as con, con.cursor() as cursor:\n",
    "    cursor.execute(\n",
    "        \"SELECT attribute_productID, attribute_attribute_typeID FROM wPiM.pim_products_attributes;\"\n",
    "    )\n",
    "    product_attributes_raw = cursor.fetchall()"
   ]
  },
  {
   "cell_type": "code",
   "execution_count": 6,
   "metadata": {},
   "outputs": [
    {
     "name": "stdout",
     "output_type": "stream",
     "text": [
      "Products:    14904\n",
      "Attributes: 327513\n"
     ]
    }
   ],
   "source": [
    "print(f\"Products:    {len(products)}\")\n",
    "print(f\"Attributes: {len(product_attributes_raw)}\")"
   ]
  },
  {
   "cell_type": "code",
   "execution_count": null,
   "metadata": {},
   "outputs": [],
   "source": [
    "from collections import defaultdict\n",
    "\n",
    "product_attributes = defaultdict(list)\n",
    "\n",
    "for pa in product_attributes_raw:\n",
    "    if pa['attribute_productID'] in products:\n",
    "        product_attributes[pa['attribute_productID']].append(pa['attribute_attribute_typeID'])\n",
    "\n",
    "print(f\"Products with attributes: {len(product_attributes)}\")"
   ]
  }
 ],
 "metadata": {
  "kernelspec": {
   "display_name": "wai311",
   "language": "python",
   "name": "python3"
  },
  "language_info": {
   "codemirror_mode": {
    "name": "ipython",
    "version": 3
   },
   "file_extension": ".py",
   "mimetype": "text/x-python",
   "name": "python",
   "nbconvert_exporter": "python",
   "pygments_lexer": "ipython3",
   "version": "3.11.0rc1"
  }
 },
 "nbformat": 4,
 "nbformat_minor": 2
}
