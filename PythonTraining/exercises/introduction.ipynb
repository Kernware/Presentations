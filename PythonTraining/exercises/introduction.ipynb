{
 "cells": [
  {
   "cell_type": "markdown",
   "metadata": {},
   "source": [
    "## Kurs Setup\n",
    "Übungen: `https://github.com/kernware/Presentations`\n",
    "Python Notebook: `http://10.13.37.64:8002/`\n",
    "\n",
    "Erstelle einen neuen Benutzer, Passwort ist `password`.\n",
    "\n",
    "\n",
    "## Warum Python?\n",
    "Erfinder: Guido van Rossum\n",
    "Erste Version: Februar 1991, Python 0.9.0 (Aktuell: 3.13.3)\n",
    "\n",
    "Merkmale: Einfachheit und Flexibilität\n",
    "* Cross Platform (Windows, Linux, Mac)\n",
    "* Web Development (Django, Flask)\n",
    "* Automation & Scripting (Testing)\n",
    "* Data Science & AI (NumPy, Pandas, TensorFlow)\n",
    "\n",
    "## Python Code Structure\n",
    "\n",
    "Code ist gespeichert in `.py` Files.\n",
    "\n",
    "Wenn ein Script ausgeführt wird, wird es zu bytecode compiliert `.pyc` und dieser wird später ausgeführt.\n",
    "Dieser wird über die Python Virtual Machine ausgeführt.\n",
    "\n",
    "PVM macht:\n",
    "* Dynamic typing (variable types checked at runtime)\n",
    "* Memory management (automatic garbage collection)\n",
    "* Error handling (exceptions raised if something goes wrong)\n",
    "\n",
    "\n",
    "## Code Beispiele:\n",
    "\n",
    "Einfache Ausgabe:\n",
    "```Python\n",
    "print(\"Hello, World!\")\n",
    "```\n",
    "\n",
    "List/Dictionary:\n",
    "```Python\n",
    "fruits = [\"apfel\", \"banane\", \"kirsche\"]\n",
    "fruits.append(\"orange\")\n",
    "\n",
    "fruits = {\"apfel\": 1, \"banane\": 2, \"kirsche\": 3}\n",
    "fruits[\"orange\"] = 4\n",
    "```\n",
    "\n",
    "File lesen/schreiben:\n",
    "```Python\n",
    "with open(\"example.txt\", \"r\") as file:\n",
    "    content = file.read()\n",
    "```\n",
    "\n",
    "List Comprehension:\n",
    "```Python\n",
    "squares = [x**2 for x in range(10)]\n",
    "```"
   ]
  },
  {
   "cell_type": "markdown",
   "metadata": {},
   "source": [
    "## Coding 101"
   ]
  },
  {
   "cell_type": "code",
   "execution_count": null,
   "metadata": {},
   "outputs": [],
   "source": [
    "# Zuweisung und Datentypen\n",
    "age = 30                   # Integer\n",
    "price = 19.99              # Float\n",
    "name = \"Alice\"             # String\n",
    "is_student = True          # Boolean\n",
    "grades = [1,2,3,4]         # List\n",
    "\n",
    "print(f\"age [type]:        {type(age)}\")\n",
    "print(f\"price [type]:      {type(price)}\")\n",
    "print(f\"name [type]:       {type(name)}\")\n",
    "print(f\"is_student [type]: {type(is_student)}\")\n",
    "print(f\"grades [type]:     {type(grades)}\")\n",
    "\n",
    "# import sys\n",
    "# print(sys.float_info)"
   ]
  },
  {
   "cell_type": "code",
   "execution_count": null,
   "metadata": {},
   "outputs": [],
   "source": [
    "# Container/Classes\n",
    "class Person:\n",
    "    age = 30\n",
    "    price = 19.99\n",
    "    name = \"Alice\"\n",
    "    is_student = True\n",
    "    grades = [1,2,3,4]"
   ]
  },
  {
   "cell_type": "code",
   "execution_count": null,
   "metadata": {},
   "outputs": [],
   "source": [
    "# Control Flow\n",
    "age = 30\n",
    "\n",
    "if age > 18:\n",
    "    print(\"Erwachsen\")\n",
    "else:\n",
    "    print(\"no no no\")"
   ]
  },
  {
   "cell_type": "code",
   "execution_count": null,
   "metadata": {},
   "outputs": [],
   "source": [
    "# Functions\n",
    "def call_me(a: int):\n",
    "    print(a)\n",
    "\n",
    "call_me(123)"
   ]
  },
  {
   "cell_type": "code",
   "execution_count": null,
   "metadata": {},
   "outputs": [],
   "source": [
    "# Schleifen\n",
    "for e in [1,2,3,4]:\n",
    "    print(e)\n",
    "\n",
    "print(\"-\")\n",
    "\n",
    "for e in range(4):\n",
    "    print(e)"
   ]
  },
  {
   "cell_type": "code",
   "execution_count": null,
   "metadata": {},
   "outputs": [],
   "source": [
    "# Dateien\n",
    "\n",
    "with open(\"example.txt\", \"w+\") as file:\n",
    "    file.write(\"Hello\")\n",
    "\n",
    "with open(\"example.txt\", \"r\") as file:\n",
    "    content = file.read()\n",
    "    print(content)\n",
    "\n",
    "_ = \"\"\"\n",
    "import tempfile\n",
    "with tempfile.NamedTemporaryFile(mode=\"w+\", delete=False) as f:\n",
    "    print(f.name)\n",
    "    f.write(\"Hallo\")\n",
    "\"\"\""
   ]
  },
  {
   "cell_type": "code",
   "execution_count": null,
   "metadata": {},
   "outputs": [],
   "source": [
    "# Laenge einer Liste und deren Summe\n",
    "\n",
    "liste = [5, 7, 3, 12, 11]\n",
    "print(f\"Laenge: { len(liste) }\")\n",
    "print(f\"Summe:  { sum(liste) }\")"
   ]
  },
  {
   "cell_type": "code",
   "execution_count": null,
   "metadata": {},
   "outputs": [],
   "source": [
    "# Dictionary, Key-value store\n",
    "\n",
    "dictionary = {\n",
    "    \"name\": \"alex\",\n",
    "    \"age\": 30,\n",
    "    \"grades\": [1,2,3,4]\n",
    "}\n",
    "\n",
    "print(dictionary['name'])"
   ]
  }
 ],
 "metadata": {
  "kernelspec": {
   "display_name": "wai311",
   "language": "python",
   "name": "python3"
  },
  "language_info": {
   "codemirror_mode": {
    "name": "ipython",
    "version": 3
   },
   "file_extension": ".py",
   "mimetype": "text/x-python",
   "name": "python",
   "nbconvert_exporter": "python",
   "pygments_lexer": "ipython3",
   "version": "3.11.0rc1"
  }
 },
 "nbformat": 4,
 "nbformat_minor": 2
}
