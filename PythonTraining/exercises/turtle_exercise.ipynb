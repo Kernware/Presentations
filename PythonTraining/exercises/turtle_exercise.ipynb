{
 "cells": [
  {
   "cell_type": "markdown",
   "metadata": {},
   "source": [
    "# Bewege die Turtle\n",
    "\n",
    "Kommandos:\n",
    "`move x`\n",
    "`left x`\n",
    "`right x`\n",
    "`penup`\n",
    "`pendown`\n",
    "\n",
    "x: Integer Zahl"
   ]
  },
  {
   "cell_type": "code",
   "execution_count": null,
   "metadata": {
    "vscode": {
     "languageId": "plaintext"
    }
   },
   "outputs": [],
   "source": [
    "import requests\n",
    "\n",
    "URL: str = \"http://localhost:8002/command/?command\"\n",
    "\n",
    "def send_command(cmd: str) -> bool:\n",
    "    r = requests.get(f\"{URL}?command={cmd}\")\n",
    "    return r.status_code == 200\n",
    "\n",
    "# send_command(\"right 90\")"
   ]
  },
  {
   "cell_type": "code",
   "execution_count": null,
   "metadata": {
    "vscode": {
     "languageId": "plaintext"
    }
   },
   "outputs": [],
   "source": []
  }
 ],
 "metadata": {
  "language_info": {
   "name": "python"
  }
 },
 "nbformat": 4,
 "nbformat_minor": 2
}
