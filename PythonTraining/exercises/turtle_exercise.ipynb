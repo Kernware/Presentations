{
 "cells": [
  {
   "cell_type": "markdown",
   "metadata": {},
   "source": [
    "# Bewege die Turtle\n",
    "\n",
    "Kommandos:\n",
    "`move x`\n",
    "`left x`\n",
    "`right x`\n",
    "`penup`\n",
    "`pendown`\n",
    "\n",
    "x: Integer Zahl"
   ]
  },
  {
   "cell_type": "code",
   "execution_count": null,
   "metadata": {},
   "outputs": [],
   "source": [
    "import requests\n",
    "\n",
    "URL: str = \"http://10.13.37.89:8002/command\"\n",
    "\n",
    "def send_command(cmd: str) -> bool:\n",
    "    r = requests.get(f\"{URL}?command={cmd}\")\n",
    "    return r.status_code == 200\n",
    "\n",
    "# send_command(\"right 90\")\n",
    "# send_command(\"left 90\")\n",
    "# send_command(\"move 50\")"
   ]
  },
  {
   "cell_type": "code",
   "execution_count": null,
   "metadata": {},
   "outputs": [],
   "source": [
    "# kannst du einen Kreis zeichnen?"
   ]
  }
 ],
 "metadata": {
  "kernelspec": {
   "display_name": "Python 3 (ipykernel)",
   "language": "python",
   "name": "python3"
  }
 },
 "nbformat": 4,
 "nbformat_minor": 2
}
