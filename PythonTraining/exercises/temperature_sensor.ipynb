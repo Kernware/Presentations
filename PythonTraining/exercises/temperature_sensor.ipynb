{
 "cells": [
  {
   "cell_type": "code",
   "execution_count": 12,
   "metadata": {},
   "outputs": [],
   "source": [
    "import requests\n",
    "\n",
    "URL: str = \"http://10.13.37.64:8004/v2/sensor/\"\n",
    "# URL: str = \"http://10.13.37.64:8004/v3/sensor/\"\n",
    "\n",
    "def get_temperature():\n",
    "    r = requests.get(f\"{URL}\")\n",
    "    return r.content"
   ]
  },
  {
   "cell_type": "code",
   "execution_count": null,
   "metadata": {},
   "outputs": [],
   "source": [
    "# get_temperature()"
   ]
  }
 ],
 "metadata": {
  "kernelspec": {
   "display_name": "wai311",
   "language": "python",
   "name": "python3"
  },
  "language_info": {
   "codemirror_mode": {
    "name": "ipython",
    "version": 3
   },
   "file_extension": ".py",
   "mimetype": "text/x-python",
   "name": "python",
   "nbconvert_exporter": "python",
   "pygments_lexer": "ipython3",
   "version": "3.11.0rc1"
  }
 },
 "nbformat": 4,
 "nbformat_minor": 2
}
