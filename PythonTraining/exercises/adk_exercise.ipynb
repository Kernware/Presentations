{
 "cells": [
  {
   "cell_type": "markdown",
   "metadata": {},
   "source": [
    "# Achtung die Kurve!\n",
    "\n",
    "Kommandos:\n",
    "* `right`, Kurve rechts\n",
    "* `left`, Kurve links\n",
    "* `none`, gerade aus"
   ]
  },
  {
   "cell_type": "code",
   "execution_count": null,
   "metadata": {},
   "outputs": [],
   "source": [
    "import requests\n",
    "\n",
    "URL: str = \"http://10.13.37.89:9003/command\"\n",
    "\n",
    "def send_command(name: str, action: str) -> bool:\n",
    "    r = requests.get(f\"{URL}?name={name}&action={action}\")\n",
    "    return r.status_code == 200\n",
    "\n",
    "# send_command(\"red\", \"right\")\n",
    "# send_command(\"red\", \"left\")\n",
    "# send_command(\"red\", \"none\")"
   ]
  },
  {
   "cell_type": "code",
   "execution_count": null,
   "metadata": {},
   "outputs": [],
   "source": [
    "# wer überlebt am längsten?"
   ]
  }
 ],
 "metadata": {
  "kernelspec": {
   "display_name": "Python 3 (ipykernel)",
   "language": "python",
   "name": "python3"
  },
  "language_info": {
   "codemirror_mode": {
    "name": "ipython",
    "version": 3
   },
   "file_extension": ".py",
   "mimetype": "text/x-python",
   "name": "python",
   "nbconvert_exporter": "python",
   "pygments_lexer": "ipython3",
   "version": "3.11.0rc1"
  }
 },
 "nbformat": 4,
 "nbformat_minor": 2
}
