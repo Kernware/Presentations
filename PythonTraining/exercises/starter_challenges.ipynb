{
 "cells": [
  {
   "cell_type": "code",
   "execution_count": null,
   "metadata": {},
   "outputs": [],
   "source": [
    "# welche der folgenden zahlen ist gerade?\n",
    "# print gerade zahlen aus\n",
    "\n",
    "liste = [14, 12, 8, 5, 8, 7, 9, 10, 15, 15, 6, 11, 4, 12, 11]\n",
    "\n",
    "# TODO"
   ]
  },
  {
   "cell_type": "code",
   "execution_count": null,
   "metadata": {},
   "outputs": [],
   "source": [
    "# welche der folgenden zahlen ist durch 3 dividierbar\n",
    "# print gerade zahlen aus\n",
    "\n",
    "liste = [6, 13, 1, 12, 14, 10, 15, 5, 9, 7, 6, 5, 14, 2, 11]\n",
    "\n",
    "# TODO"
   ]
  },
  {
   "cell_type": "code",
   "execution_count": null,
   "metadata": {},
   "outputs": [],
   "source": [
    "# welche der folgenden zahlen sind groesser als 6?\n",
    "# print diese aus\n",
    "\n",
    "liste = [5, 7, 3, 12, 11, 7, 9, 4, 8, 8, 15, 10, 14, 12, 5]\n",
    "\n",
    "# TODO"
   ]
  },
  {
   "cell_type": "code",
   "execution_count": null,
   "metadata": {},
   "outputs": [],
   "source": [
    "# Was ist die groesste Zahl in der Liste? print diese aus\n",
    "\n",
    "liste = [5, 7, 3, 12, 11, 7, 9, 4, 8, 8, 15, 10, 14, 12, 5]\n",
    "\n",
    "# TODO"
   ]
  },
  {
   "cell_type": "code",
   "execution_count": null,
   "metadata": {},
   "outputs": [],
   "source": [
    "# wieviele 'a' enthaelt der folgende satz?\n",
    "# Quelle: https://en.wikipedia.org/wiki/Alan_Turing\n",
    "satz = \"Alan Mathison Turing was an English mathematician, computer scientist, logician, cryptanalyst, philosopher and theoretical biologist.[5] He was highly influential in the development of theoretical computer science, providing a formalisation of the concepts of algorithm and computation with the Turing machine, which can be considered a model of a general-purpose computer.\"\n",
    "\n",
    "# TODO"
   ]
  },
  {
   "cell_type": "code",
   "execution_count": null,
   "metadata": {},
   "outputs": [
    {
     "data": {
      "text/plain": [
       "11"
      ]
     },
     "execution_count": 5,
     "metadata": {},
     "output_type": "execute_result"
    }
   ],
   "source": [
    "# wieviele Integer Elemente befinden sich in der Liste?\n",
    "\n",
    "liste = [[14, 12], 8, [5, 8, 7], 9, 15, [6], 11, 13]\n",
    "\n",
    "# TODO"
   ]
  },
  {
   "cell_type": "code",
   "execution_count": null,
   "metadata": {},
   "outputs": [],
   "source": [
    "# Schreibe eine Schleife welche die Zahlen von 1-20 printed.\n",
    "# Bei allen multiplikativen von 3, printe \"Fizz\"\n",
    "# Bei allen multiplikativen von 5, printe \"Buzz\"\n",
    "# Bei allen multiplikativen von 3 und 5, printe \"FizzBuzz\"\n",
    "\n",
    "for i in range(1, 21, 1):\n",
    "    # TODO\n",
    "    print(i)"
   ]
  },
  {
   "cell_type": "code",
   "execution_count": null,
   "metadata": {},
   "outputs": [],
   "source": [
    "# Schreibe eine Funktion die prueft ob ein Wort ein Palindrome ist oder nicht.\n",
    "# Ein Palindrom liest sich von vorn und hinten gleich.\n",
    "\n",
    "words = [\n",
    "    \"otto\",\n",
    "    \"alexander\",\n",
    "    \"autowaschanlage\",\n",
    "    \"a\",\n",
    "    \"racecar\"\n",
    "]\n",
    "\n",
    "def checker(wort: str) -> bool:\n",
    "    # TODO:\n",
    "    return False\n",
    "\n",
    "for wort in words:\n",
    "    print(f\"{wort}: {checker(wort)}\")"
   ]
  }
 ],
 "metadata": {
  "kernelspec": {
   "display_name": "wai311",
   "language": "python",
   "name": "python3"
  },
  "language_info": {
   "codemirror_mode": {
    "name": "ipython",
    "version": 3
   },
   "file_extension": ".py",
   "mimetype": "text/x-python",
   "name": "python",
   "nbconvert_exporter": "python",
   "pygments_lexer": "ipython3",
   "version": "3.11.0rc1"
  }
 },
 "nbformat": 4,
 "nbformat_minor": 2
}
